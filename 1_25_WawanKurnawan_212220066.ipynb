{
  "nbformat": 4,
  "nbformat_minor": 0,
  "metadata": {
    "colab": {
      "name": "1-25-WawanKurnawan-212220066.ipynb",
      "provenance": [],
      "collapsed_sections": []
    },
    "kernelspec": {
      "name": "python3",
      "display_name": "Python 3"
    },
    "language_info": {
      "name": "python"
    }
  },
  "cells": [
    {
      "cell_type": "code",
      "metadata": {
        "colab": {
          "base_uri": "https://localhost:8080/",
          "height": 0
        },
        "id": "_NX1HzlRPkPQ",
        "outputId": "d7b0a0ea-0c4e-4cd3-abba-bba42dcd0fe1"
      },
      "source": [
        "print('tugas Data Mining 1')\n",
        "print('Nama : Wawan Kurnawan')\n",
        "print('NIM : 212220066')\n",
        "print('Kelas : 25 / TI alih jenjang')"
      ],
      "execution_count": 44,
      "outputs": [
        {
          "output_type": "stream",
          "name": "stdout",
          "text": [
            "tugas Data Mining 1\n",
            "Nama : Wawan Kurnawan\n",
            "NIM : 212220066\n",
            "Kelas : 25 / TI alih jenjang\n"
          ]
        }
      ]
    },
    {
      "cell_type": "code",
      "metadata": {
        "id": "3gS6DrcOId78"
      },
      "source": [
        "import pandas as pd\n",
        "from sklearn import tree\n",
        "from sklearn.tree import DecisionTreeClassifier"
      ],
      "execution_count": 1,
      "outputs": []
    },
    {
      "cell_type": "code",
      "metadata": {
        "colab": {
          "base_uri": "https://localhost:8080/",
          "height": 357
        },
        "id": "pvXxL1kwIy8o",
        "outputId": "91bb25ae-84a4-4faa-c426-91f3fb153309"
      },
      "source": [
        "dataset = pd.read_csv('https://raw.githubusercontent.com/asrulabdullah99/data_mining/master/dataset_decision/Dataset_Tugas.csv')\n",
        "dataset"
      ],
      "execution_count": 2,
      "outputs": [
        {
          "output_type": "execute_result",
          "data": {
            "text/html": [
              "<div>\n",
              "<style scoped>\n",
              "    .dataframe tbody tr th:only-of-type {\n",
              "        vertical-align: middle;\n",
              "    }\n",
              "\n",
              "    .dataframe tbody tr th {\n",
              "        vertical-align: top;\n",
              "    }\n",
              "\n",
              "    .dataframe thead th {\n",
              "        text-align: right;\n",
              "    }\n",
              "</style>\n",
              "<table border=\"1\" class=\"dataframe\">\n",
              "  <thead>\n",
              "    <tr style=\"text-align: right;\">\n",
              "      <th></th>\n",
              "      <th>Home_Owner</th>\n",
              "      <th>Marital_Status</th>\n",
              "      <th>Annual_Income</th>\n",
              "      <th>Defaulted_Borrower</th>\n",
              "    </tr>\n",
              "  </thead>\n",
              "  <tbody>\n",
              "    <tr>\n",
              "      <th>0</th>\n",
              "      <td>Yes</td>\n",
              "      <td>Single</td>\n",
              "      <td>125000</td>\n",
              "      <td>No</td>\n",
              "    </tr>\n",
              "    <tr>\n",
              "      <th>1</th>\n",
              "      <td>No</td>\n",
              "      <td>Married</td>\n",
              "      <td>100000</td>\n",
              "      <td>No</td>\n",
              "    </tr>\n",
              "    <tr>\n",
              "      <th>2</th>\n",
              "      <td>No</td>\n",
              "      <td>Single</td>\n",
              "      <td>70000</td>\n",
              "      <td>No</td>\n",
              "    </tr>\n",
              "    <tr>\n",
              "      <th>3</th>\n",
              "      <td>Yes</td>\n",
              "      <td>Married</td>\n",
              "      <td>120000</td>\n",
              "      <td>No</td>\n",
              "    </tr>\n",
              "    <tr>\n",
              "      <th>4</th>\n",
              "      <td>No</td>\n",
              "      <td>Divorced</td>\n",
              "      <td>95000</td>\n",
              "      <td>Yes</td>\n",
              "    </tr>\n",
              "    <tr>\n",
              "      <th>5</th>\n",
              "      <td>No</td>\n",
              "      <td>Married</td>\n",
              "      <td>60000</td>\n",
              "      <td>No</td>\n",
              "    </tr>\n",
              "    <tr>\n",
              "      <th>6</th>\n",
              "      <td>Yes</td>\n",
              "      <td>Divorced</td>\n",
              "      <td>220000</td>\n",
              "      <td>No</td>\n",
              "    </tr>\n",
              "    <tr>\n",
              "      <th>7</th>\n",
              "      <td>No</td>\n",
              "      <td>Single</td>\n",
              "      <td>85000</td>\n",
              "      <td>Yes</td>\n",
              "    </tr>\n",
              "    <tr>\n",
              "      <th>8</th>\n",
              "      <td>No</td>\n",
              "      <td>Married</td>\n",
              "      <td>75000</td>\n",
              "      <td>No</td>\n",
              "    </tr>\n",
              "    <tr>\n",
              "      <th>9</th>\n",
              "      <td>No</td>\n",
              "      <td>Single</td>\n",
              "      <td>90000</td>\n",
              "      <td>Yes</td>\n",
              "    </tr>\n",
              "  </tbody>\n",
              "</table>\n",
              "</div>"
            ],
            "text/plain": [
              "  Home_Owner Marital_Status  Annual_Income Defaulted_Borrower\n",
              "0        Yes         Single         125000                 No\n",
              "1         No        Married         100000                 No\n",
              "2         No         Single          70000                 No\n",
              "3        Yes        Married         120000                 No\n",
              "4         No       Divorced          95000                Yes\n",
              "5         No        Married          60000                 No\n",
              "6        Yes       Divorced         220000                 No\n",
              "7         No         Single          85000                Yes\n",
              "8         No        Married          75000                 No\n",
              "9         No         Single          90000                Yes"
            ]
          },
          "metadata": {},
          "execution_count": 2
        }
      ]
    },
    {
      "cell_type": "code",
      "metadata": {
        "colab": {
          "base_uri": "https://localhost:8080/",
          "height": 357
        },
        "id": "PyvZo4_TI5ZP",
        "outputId": "b08808b5-389f-490e-f1ee-0c272dbdbda1"
      },
      "source": [
        "d = {'No':0,'Yes':1,}\n",
        "dataset['Home_Owner']=dataset['Home_Owner'].map(d)\n",
        "d = {'Single':0,'Married':1, 'Divorced' :2,}\n",
        "dataset['Marital_Status']=dataset['Marital_Status'].map(d)\n",
        "d = {'No' : 0, 'Yes' : 1,}\n",
        "dataset['Defaulted_Borrower']=dataset['Defaulted_Borrower'].map(d)\n",
        "dataset"
      ],
      "execution_count": 3,
      "outputs": [
        {
          "output_type": "execute_result",
          "data": {
            "text/html": [
              "<div>\n",
              "<style scoped>\n",
              "    .dataframe tbody tr th:only-of-type {\n",
              "        vertical-align: middle;\n",
              "    }\n",
              "\n",
              "    .dataframe tbody tr th {\n",
              "        vertical-align: top;\n",
              "    }\n",
              "\n",
              "    .dataframe thead th {\n",
              "        text-align: right;\n",
              "    }\n",
              "</style>\n",
              "<table border=\"1\" class=\"dataframe\">\n",
              "  <thead>\n",
              "    <tr style=\"text-align: right;\">\n",
              "      <th></th>\n",
              "      <th>Home_Owner</th>\n",
              "      <th>Marital_Status</th>\n",
              "      <th>Annual_Income</th>\n",
              "      <th>Defaulted_Borrower</th>\n",
              "    </tr>\n",
              "  </thead>\n",
              "  <tbody>\n",
              "    <tr>\n",
              "      <th>0</th>\n",
              "      <td>1</td>\n",
              "      <td>0</td>\n",
              "      <td>125000</td>\n",
              "      <td>0</td>\n",
              "    </tr>\n",
              "    <tr>\n",
              "      <th>1</th>\n",
              "      <td>0</td>\n",
              "      <td>1</td>\n",
              "      <td>100000</td>\n",
              "      <td>0</td>\n",
              "    </tr>\n",
              "    <tr>\n",
              "      <th>2</th>\n",
              "      <td>0</td>\n",
              "      <td>0</td>\n",
              "      <td>70000</td>\n",
              "      <td>0</td>\n",
              "    </tr>\n",
              "    <tr>\n",
              "      <th>3</th>\n",
              "      <td>1</td>\n",
              "      <td>1</td>\n",
              "      <td>120000</td>\n",
              "      <td>0</td>\n",
              "    </tr>\n",
              "    <tr>\n",
              "      <th>4</th>\n",
              "      <td>0</td>\n",
              "      <td>2</td>\n",
              "      <td>95000</td>\n",
              "      <td>1</td>\n",
              "    </tr>\n",
              "    <tr>\n",
              "      <th>5</th>\n",
              "      <td>0</td>\n",
              "      <td>1</td>\n",
              "      <td>60000</td>\n",
              "      <td>0</td>\n",
              "    </tr>\n",
              "    <tr>\n",
              "      <th>6</th>\n",
              "      <td>1</td>\n",
              "      <td>2</td>\n",
              "      <td>220000</td>\n",
              "      <td>0</td>\n",
              "    </tr>\n",
              "    <tr>\n",
              "      <th>7</th>\n",
              "      <td>0</td>\n",
              "      <td>0</td>\n",
              "      <td>85000</td>\n",
              "      <td>1</td>\n",
              "    </tr>\n",
              "    <tr>\n",
              "      <th>8</th>\n",
              "      <td>0</td>\n",
              "      <td>1</td>\n",
              "      <td>75000</td>\n",
              "      <td>0</td>\n",
              "    </tr>\n",
              "    <tr>\n",
              "      <th>9</th>\n",
              "      <td>0</td>\n",
              "      <td>0</td>\n",
              "      <td>90000</td>\n",
              "      <td>1</td>\n",
              "    </tr>\n",
              "  </tbody>\n",
              "</table>\n",
              "</div>"
            ],
            "text/plain": [
              "   Home_Owner  Marital_Status  Annual_Income  Defaulted_Borrower\n",
              "0           1               0         125000                   0\n",
              "1           0               1         100000                   0\n",
              "2           0               0          70000                   0\n",
              "3           1               1         120000                   0\n",
              "4           0               2          95000                   1\n",
              "5           0               1          60000                   0\n",
              "6           1               2         220000                   0\n",
              "7           0               0          85000                   1\n",
              "8           0               1          75000                   0\n",
              "9           0               0          90000                   1"
            ]
          },
          "metadata": {},
          "execution_count": 3
        }
      ]
    },
    {
      "cell_type": "code",
      "metadata": {
        "colab": {
          "base_uri": "https://localhost:8080/",
          "height": 0
        },
        "id": "gAtk4IGOMGjI",
        "outputId": "88c55e6e-8535-4b92-a2bd-ffc1e32d03fb"
      },
      "source": [
        "features = ['Home_Owner', 'Marital_Status', 'Annual_Income']\n",
        "x = dataset[features]\n",
        "y = dataset['Defaulted_Borrower']\n",
        "\n",
        "print(x)\n",
        "print(y)"
      ],
      "execution_count": 10,
      "outputs": [
        {
          "output_type": "stream",
          "name": "stdout",
          "text": [
            "   Home_Owner  Marital_Status  Annual_Income\n",
            "0           1               0         125000\n",
            "1           0               1         100000\n",
            "2           0               0          70000\n",
            "3           1               1         120000\n",
            "4           0               2          95000\n",
            "5           0               1          60000\n",
            "6           1               2         220000\n",
            "7           0               0          85000\n",
            "8           0               1          75000\n",
            "9           0               0          90000\n",
            "0    0\n",
            "1    0\n",
            "2    0\n",
            "3    0\n",
            "4    1\n",
            "5    0\n",
            "6    0\n",
            "7    1\n",
            "8    0\n",
            "9    1\n",
            "Name: Defaulted_Borrower, dtype: int64\n"
          ]
        }
      ]
    },
    {
      "cell_type": "code",
      "metadata": {
        "id": "18acrA6wMUIF"
      },
      "source": [
        "import pydotplus\n",
        "import matplotlib.pyplot as plt\n",
        "import matplotlib.image as pltimg"
      ],
      "execution_count": 11,
      "outputs": []
    },
    {
      "cell_type": "code",
      "metadata": {
        "colab": {
          "base_uri": "https://localhost:8080/",
          "height": 269
        },
        "id": "JtdOeQ0NMW8R",
        "outputId": "70d95092-89ee-47d6-d143-f56e8326ff16"
      },
      "source": [
        "dtree = DecisionTreeClassifier()\n",
        "dtree = dtree.fit(x,y)\n",
        "data = tree.export_graphviz(dtree, out_file=None, feature_names=features)\n",
        "graph = pydotplus.graph_from_dot_data(data)\n",
        "graph.write_png('decisiontree.png')\n",
        "\n",
        "img = pltimg.imread('decisiontree.png')\n",
        "imgplot = plt.imshow(img)\n",
        "plt.show()"
      ],
      "execution_count": 13,
      "outputs": [
        {
          "output_type": "display_data",
          "data": {
            "image/png": "[encoded data removed]",
            "text/plain": [
              "<Figure size 432x288 with 1 Axes>"
            ]
          },
          "metadata": {
            "needs_background": "light"
          }
        }
      ]
    },
    {
      "cell_type": "code",
      "metadata": {
        "colab": {
          "base_uri": "https://localhost:8080/",
          "height": 0
        },
        "id": "o_BVM912MkCG",
        "outputId": "d77fcbc3-baaf-4290-b1c2-b3baf44413ce"
      },
      "source": [
        "#mempredeksi tidak punya rumah, single, gaji setahun 50000\n",
        "print(dtree.predict([[0,0,50000]]))"
      ],
      "execution_count": 14,
      "outputs": [
        {
          "output_type": "stream",
          "name": "stdout",
          "text": [
            "[0]\n"
          ]
        }
      ]
    },
    {
      "cell_type": "code",
      "metadata": {
        "colab": {
          "base_uri": "https://localhost:8080/",
          "height": 0
        },
        "id": "0CjdmjaRNMMx",
        "outputId": "bee537e6-7b7e-4a95-c4ac-a1a5fed24508"
      },
      "source": [
        "#mempredeksi tidak punya rumah, single, gaji setahun 100000\n",
        "print(dtree.predict([[0,0,100000]]))"
      ],
      "execution_count": 40,
      "outputs": [
        {
          "output_type": "stream",
          "name": "stdout",
          "text": [
            "[0]\n"
          ]
        }
      ]
    },
    {
      "cell_type": "code",
      "metadata": {
        "colab": {
          "base_uri": "https://localhost:8080/",
          "height": 0
        },
        "id": "vy0oDV9OOjBC",
        "outputId": "7be2912b-d5c3-4b44-e644-12869e186072"
      },
      "source": [
        "#mempredeksi punya rumah, single, gaji setahun 85000\n",
        "print(dtree.predict([[1,0,85000]]))"
      ],
      "execution_count": 41,
      "outputs": [
        {
          "output_type": "stream",
          "name": "stdout",
          "text": [
            "[1]\n"
          ]
        }
      ]
    }
  ]
}